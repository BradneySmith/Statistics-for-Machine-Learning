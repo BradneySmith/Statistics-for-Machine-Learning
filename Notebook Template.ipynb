{
 "cells": [
  {
   "cell_type": "markdown",
   "metadata": {},
   "source": [
    "<h1 align=\"center\">Statistics for Machine Learning</h1>\n",
    "<h2 align=\"center\">Sample Topic</h2>\n",
    "\n",
    "&nbsp;"
   ]
  },
  {
   "cell_type": "markdown",
   "metadata": {},
   "source": [
    "### Overview\n"
   ]
  },
  {
   "cell_type": "markdown",
   "metadata": {},
   "source": [
    "### Pre-requisites\n",
    "\n",
    "This notebook builds on *previous notebook*"
   ]
  },
  {
   "cell_type": "markdown",
   "metadata": {},
   "source": [
    "### Contents\n",
    "\n",
    "Section 1 - \n",
    "\n",
    "Section 2 - \n",
    "\n",
    "Section 3 - \n",
    "\n",
    "Section 4 - Conclusion\n",
    "\n",
    "Section 5 - Glossary\n",
    "\n",
    "Section 6 - Further Reading"
   ]
  },
  {
   "cell_type": "markdown",
   "metadata": {},
   "source": [
    "<h2 align=\"center\">Section 1 - Sample Title</h2>"
   ]
  },
  {
   "cell_type": "markdown",
   "metadata": {},
   "source": [
    "### 1.1 - Sample header\n",
    "\n",
    "Sample text"
   ]
  },
  {
   "cell_type": "markdown",
   "metadata": {},
   "source": [
    "<h2 align=\"center\">Section 4 - Conclusion</h2>"
   ]
  },
  {
   "cell_type": "markdown",
   "metadata": {},
   "source": [
    "<h2 align=\"center\">Section 5 - Glossary</h2>\n",
    "\n",
    "**Key word**\n",
    "> Definition\n",
    "\n",
    "**Key word**\n",
    "> Definition\n",
    "\n",
    "**Key word**\n",
    "> Definition"
   ]
  },
  {
   "cell_type": "markdown",
   "metadata": {},
   "source": [
    "<h2 align=\"center\">Section 6 - Further Reading</h2>\n",
    "\n",
    "[1] Decription - [Website domain](link)"
   ]
  }
 ],
 "metadata": {
  "interpreter": {
   "hash": "d12f8feabeafaf270980e7c9bb07a64bda11bc8bed6d60be55672b74d1da4805"
  },
  "kernelspec": {
   "display_name": "Python 3.9.7 64-bit ('base': conda)",
   "language": "python",
   "name": "python3"
  },
  "language_info": {
   "codemirror_mode": {
    "name": "ipython",
    "version": 3
   },
   "file_extension": ".py",
   "mimetype": "text/x-python",
   "name": "python",
   "nbconvert_exporter": "python",
   "pygments_lexer": "ipython3",
   "version": "3.9.7"
  },
  "orig_nbformat": 4
 },
 "nbformat": 4,
 "nbformat_minor": 2
}
