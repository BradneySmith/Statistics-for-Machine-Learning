{
 "cells": [
  {
   "cell_type": "markdown",
   "metadata": {},
   "source": [
    "<center><h1>Statistics for Machine Learning</h1></center>\n",
    "&nbsp;\n",
    "<center><h2>Sample Topic</h2></center>"
   ]
  },
  {
   "cell_type": "markdown",
   "metadata": {},
   "source": [
    "### Overview\n"
   ]
  },
  {
   "cell_type": "markdown",
   "metadata": {},
   "source": [
    "### Pre-requisites\n",
    "\n",
    "This notebook builds on *previous notebook*"
   ]
  },
  {
   "cell_type": "markdown",
   "metadata": {},
   "source": [
    "### Contents\n",
    "\n",
    "Section 1 - \n",
    "\n",
    "Section 2 - \n",
    "\n",
    "Section 3 - \n",
    "\n",
    "Section 4 - Conclusion\n",
    "\n",
    "Section 5 - Glossary\n",
    "\n",
    "Section 6 - References"
   ]
  },
  {
   "cell_type": "markdown",
   "metadata": {},
   "source": [
    "### Loading the Data\n",
    "\n",
    "The SOCR dataset from UCLA contains height and weight information for 25,000 18 year olds, who form the population for this notebook."
   ]
  },
  {
   "cell_type": "code",
   "execution_count": 2,
   "metadata": {},
   "outputs": [],
   "source": [
    "import math\n",
    "from matplotlib import pyplot as plt\n",
    "import numpy as np\n",
    "import pandas as pd"
   ]
  },
  {
   "cell_type": "code",
   "execution_count": 3,
   "metadata": {},
   "outputs": [
    {
     "name": "stdout",
     "output_type": "stream",
     "text": [
      "Number of rows: 25000\n"
     ]
    }
   ],
   "source": [
    "df = pd.read_csv('datasets/SOCR-HeightWeight.csv', sep=',')\n",
    "heights = list(df['Height(Inches)'])\n",
    "weights = list(df['Weight(Pounds)'])\n",
    "\n",
    "heights.sort()\n",
    "weights.sort()\n",
    "\n",
    "print(f'Number of rows: {len(df)}')"
   ]
  },
  {
   "cell_type": "markdown",
   "metadata": {},
   "source": [
    "<center><h2>Section 1 - Sample Title</h2></center>"
   ]
  },
  {
   "cell_type": "markdown",
   "metadata": {},
   "source": [
    "### 1.1 - Sample header\n",
    "\n",
    "Sample text"
   ]
  },
  {
   "cell_type": "markdown",
   "metadata": {},
   "source": [
    "<center><h2>Section 4 - Conclusion</h2></center>"
   ]
  },
  {
   "cell_type": "markdown",
   "metadata": {},
   "source": [
    "<center><h2>Section 5 - Glossary</h2></center>\n",
    "\n",
    "**Key word**\n",
    "> Definition\n",
    "\n",
    "**Key word**\n",
    "> Definition\n",
    "\n",
    "**Key word**\n",
    "> Definition"
   ]
  },
  {
   "cell_type": "markdown",
   "metadata": {},
   "source": [
    "<center><h2>Section 6 - References</h2></center>\n",
    "\n",
    "[1] Decription - [Website domain](link)"
   ]
  }
 ],
 "metadata": {
  "interpreter": {
   "hash": "d12f8feabeafaf270980e7c9bb07a64bda11bc8bed6d60be55672b74d1da4805"
  },
  "kernelspec": {
   "display_name": "Python 3.9.7 64-bit ('base': conda)",
   "language": "python",
   "name": "python3"
  },
  "language_info": {
   "codemirror_mode": {
    "name": "ipython",
    "version": 3
   },
   "file_extension": ".py",
   "mimetype": "text/x-python",
   "name": "python",
   "nbconvert_exporter": "python",
   "pygments_lexer": "ipython3",
   "version": "3.9.7"
  },
  "orig_nbformat": 4
 },
 "nbformat": 4,
 "nbformat_minor": 2
}
