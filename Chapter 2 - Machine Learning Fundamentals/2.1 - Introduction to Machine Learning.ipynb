{
 "cells": [
  {
   "cell_type": "markdown",
   "metadata": {},
   "source": [
    "<center><h1>Statistics for Machine Learning</h1></center>\n",
    "&nbsp;\n",
    "<center><h2>Introduction to Machine Learning</h2></center>"
   ]
  },
  {
   "cell_type": "markdown",
   "metadata": {},
   "source": [
    "### Overview\n",
    "\n",
    "Machine learning dominates the field of Artificial Intelligence, and is what allows some of the most powerful AI in the world to achieve their success. This notebook aims to give a very high-level overview of what machine learning is, how is it different to AI, and some of the main types of machine learning models. This serves as an introduction to the topic, and so the details have been held back for a deeper discussion in later notebooks."
   ]
  },
  {
   "cell_type": "markdown",
   "metadata": {},
   "source": [
    "### Contents\n",
    "\n",
    "Section 1 - Terminology in Machine Learning\n",
    "\n",
    "Section 2 - Supervised Learning\n",
    "\n",
    "Section 3 - Unsupervised Learning\n",
    "\n",
    "Section 4 - Reinforcement Learning\n",
    "\n",
    "Section 5 - Conclusion\n",
    "\n",
    "Section 6 - Glossary\n",
    "\n",
    "Section 7 - References"
   ]
  },
  {
   "cell_type": "markdown",
   "metadata": {},
   "source": [
    "<center><h2>Section 1 - Terminology in Machine Learning</h2></center>"
   ]
  },
  {
   "cell_type": "markdown",
   "metadata": {},
   "source": [
    "### 1.1 - Artificial Intelligence\n",
    "\n",
    "There are a few terms that are commonly used to describe the idea of computers being 'intelligent', and there is much debate on what it means to be 'intelligent' in the first place. These definitions often seem vague and have a lot of overlap, and because of this **Artificial Intelligence** (AI) is a very broad term. IBM defines AI as the following [1]:\n",
    "\n",
    "> Artificial Intelligence leverages computers and machines to mimic the problem-solving and decision-making capabilities of the human mind.\n",
    "\n",
    "As with most definitions for AI, this too is quite vague. The key idea here is that a computer is being used to solve intelligent problems that would normally be solved by a human. This can include very complex tasks, but also very simple ones. In fact, the history of modern AI has its roots in simple programs that could play games against humans. These progras were written using a set of hard-coded rules that told the computer what action to perform for every possible situation. Unlike modern AI, these early models had no ability to learn or adapt to new styles of play. However, since the computers were performing tasks normally performed by humans, this is considered a form of artificial intelligence. AI which uses hard-coded rules is called **Symbolic AI**, and this has generally seen a decline in recent decades (though some researchers predict a resurgence in the field [2])."
   ]
  },
  {
   "cell_type": "markdown",
   "metadata": {},
   "source": [
    "### 1.2 - Machine Learning\n",
    "\n",
    "As stated above AI is a broad term, and encompasses many different areas under its umbrella. One of these is **Machine Learning**, whic IBM defines as [3]:\n",
    "\n",
    "> Machine learning is a branch of artificial intelligence (AI) and computer science which focuses on the use of data and algorithms to imitate the way that humans learn, gradually improving its accuracy.\n",
    "\n",
    "The distinction here, is that machine learning involves using data to **learn** and adapt the outputs that are produced. This does not happen in all AI, which is evidenced by the early game-playing programs from the 1950s and 1960s. In simple terms, if a computer is imitating a human in any capacity, that is AI. If the computer is also learning how to improve itself, then that is a specific form of AI called machine learning. \n",
    "\n",
    "Initially machine learning was very much a sub-section of AI: just one piece of a larger puzzle. However in recent times, the significance of machine learning has grown so much that it dominates the field of AI altogether. One of the main reasons for this is that machine learning allows computers to infer rules that are not explicitly programmed, and so the computers have the potential to perform even better than the humans that create them. This is a necessary ability to achieve **Artificial General Intelligence** - a computer that be trained to complete any task as well as a human, or better."
   ]
  },
  {
   "cell_type": "markdown",
   "metadata": {},
   "source": [
    "### 1.3 - Neural Networks\n",
    "\n",
    "**Neural Networks** are one of many machine learning methods. These are layer-structured representations of data, and were inspired by the human brain [4]. A network consists of an input layer, one or more hidden layers, and an output layer. Each layer contains one or mode nodes, which simulate a biological neuron from an animal brain (hence the term *neural* network). A neuron can accept a number of values between 0 and 1 as inputs, compute a weighted sum, then produce an output using an activation function. The details of this are covered more in detail in the *Neural Networks and Deep Learning* chapter. At this stage, it is simply important to recognise that AI, Machine Learning and Netual Networks are not synonymous. AI which use connected networks of nodes like this are called **Connectionist AI** - these are robust to changes in the machine learning model, since all the nodes are connected together and the links between are updated simulatenously."
   ]
  },
  {
   "cell_type": "markdown",
   "metadata": {},
   "source": [
    "### 1.4 - Types of Machine Learning\n",
    "\n",
    "Machine Learning methods are often split into 3 different categories:\n",
    "\n",
    "&nbsp;\n",
    "\n",
    "* Supervised Learning\n",
    "* Unsupervised Learning\n",
    "* Reinforcement Learning\n",
    "\n",
    "&nbsp;\n",
    "\n",
    "Since the key characteristic of machine learning is making inferences from data (learning), all of these categories require data to be able to work. Exposing a model to data to learn from is called **training**. Training models can require vast amounts of data; generally the more the better. The training method for each type of learning is slightly different, and is what separates the category of models from one another. The next sections give an an overview for each category of machine learning methods, as well as a summary of the problems they are commonly used to solve."
   ]
  },
  {
   "cell_type": "markdown",
   "metadata": {},
   "source": [
    "<center><h2>Section 2 - Supervised Learning</h2></center>"
   ]
  },
  {
   "cell_type": "markdown",
   "metadata": {},
   "source": [
    "### 2.1 - Overview of Supervised Learning\n",
    "\n",
    "A **supervised learning** model is an algorithm that can be used to make predictions based on some input data. These models are trained using many examples, which each consist of some inputs and their corresponding expected output. After seeing many thousands of examples, the model *learns* what output should be produced for each group of inputs. This is the training process described above. In this case, the training data includes not only the inputs, but also the expected output. This kind of data is called **labelled** data, and is the defining characteristic of supervised learning. Now that the model has been trained, it can be presented some inputs it has not seen before and attempt to make a prediction about what the output should be. There are two main categories of supervised learning: Classification and Regression [5].\n",
    "\n",
    "&nbsp;\n",
    "\n",
    "**Classification**\n",
    "\n",
    "A **classifer** is a supervised machine learning model that predicts categoric values. For example, a model can be trained to classify images of cats and dogs. The training would consist of presenting many images to the algorithm that are labelled either 'cat' or 'dog'. Over time the model will begin to *learn* which images are cats and which are dogs, so that when a new image is presented it can make a prediction. Predicting a categoric label like this is also called 'assigning a **class**', hence the name **classification**.\n",
    "\n",
    "Examples of classification algorithms include:\n",
    "\n",
    "* Logistic Regression\n",
    "* k-Nearest Neighbors (kNN)\n",
    "* Support Vector Machines (SVM)\n",
    "* Random Forest\n",
    "* etc\n",
    "\n",
    "These algorithms are covered in the chapter *Supervised Learning: Classification*\n",
    "\n",
    "\n",
    "&nbsp;\n",
    "\n",
    "**Regression**\n",
    "\n",
    "A **regression** model is also a form of supervised learning, but differs from classifiers by predicting numeric values. For example, a regression model can be trained to predict the price of a house. The training would consist of presenting information about many houses (such as the number of bedrooms, distance to downtown etc) as well as the label - which in this case is the price of the house. Over time the model will begin to *learn* the approximate price of a based on the information that it is given. When information for a new house is given, the model can then make a prediction for the price. These models build on the concept of regression from statistics, and so keep the name.\n",
    "\n",
    "Examples of regression algorithms include:\n",
    "\n",
    "* Simple Linear Regression\n",
    "* Multiple Regression (including Polynomial Regression)\n",
    "* Quantile Regression\n",
    "* etc\n",
    "\n",
    "These algorithms are covered in the chapter *Supervised Learning: Regression*\n"
   ]
  },
  {
   "cell_type": "markdown",
   "metadata": {},
   "source": [
    "### 2.2 - Training, Validation and Testing\n",
    "\n",
    "Once a model has been trained, it can be exposed to new data it has never seen before to assess how well it performs. For example, if a classification model has been trained to recognise pictures of cats and dogs, you can present new images to the model that is has never seen before. You can then assess the accuracy of the predictions. The data used for this step is called **validation data**. It is important to evaluate the model using data it has not already seen to get a true assessment of how it will perform when shown new data in the future. After the validation step, the model can be refined to improve its performance. Once the model is complete, it should be assessed one final time using another set of data that has not yet been used. This final step is called **testing**. Testing allows the model's performance to be compared to other models, and gives a true sense for the level of accuracy obtained. \n",
    "\n",
    "Dividing the data that is available when creating the model is called the train-validation-test split, or more simply the **test-train** split. Since new data must be used at each stage, deciding how the data will be divided is an important consideration when developing a model. Some resources recommend a 60:20:20 split (for training:validation:testing) [6]. Often the validation stage is omitted, and the data is divided according to an 80:20 or 70:30 split (for training:testing) [7]."
   ]
  },
  {
   "cell_type": "markdown",
   "metadata": {},
   "source": [
    "<center><h2>Section 3 - Unsupervised Learning</h2></center>"
   ]
  },
  {
   "cell_type": "markdown",
   "metadata": {},
   "source": [
    "### 3.1 - Overview of Unsupervised Learning\n",
    "\n",
    "**Unsupervised Learning** algorithms do not work with labelled data, and this is the key difference compared to supervised learning. Because of this, the goals of unsupervised models are slightly different to their supervised counterparts. These models still learn from data and make predictions, but are used to mainly detect patterns within the structure of data, and can extract meaning without human intervention. Unsupervising learning can be broken down further into 3 types of problems [8]:\n",
    "\n",
    "&nbsp;\n",
    "\n",
    "* Clustering\n",
    "* Association\n",
    "* Dimensionality Reduction\n",
    "\n",
    "&nbsp;\n",
    "\n",
    "**Clustering**\n",
    "\n",
    "Clustering is a data mining technique, which is the field of finding anomalies, patterns and correlations within large datasets [9]. This allows data to be grouped by similarities shared with other data in a dataset, and has applications in many areas such as computer vision, recommendation systems, image compression and more.\n",
    "\n",
    "&nbsp;\n",
    "\n",
    "**Association**\n",
    "\n",
    "Association is a technique to find relationships between data in a dataset - that is, can the values of some data be used to predict the values of other data that are associated with eachother. One major application of this is *market basket analysis*, where items on online shopping websites are frequently bought together. This can be used to prompt the user with 'customers who bought this item also bought this'. This shows the association between the items available in the store.\n",
    "\n",
    "&nbsp;\n",
    "\n",
    "**Dimensionality Reduction**\n",
    "\n",
    "Dimensionality reduction techniques reduce the amount of data points while retaining the integrity of the data as much as possible. This is typically used to remove noise from data, but can also be used to reduce high-dimensional data to fewer dimensions so that it is easier to work with. A common example of this technique is *Principal Component Analysis*.\n",
    "\n",
    "&nbsp; \n",
    "\n",
    "A list of common unsupervised learning methods includes [10]:\n",
    "* K-Means Clustering\n",
    "* Hierarchical Clustering\n",
    "* Anomaly Detection\n",
    "* Principal Component Analysis\n",
    "* Dendrograms\n",
    "* etc\n",
    "\n",
    "These algorithms are covered in the chapter *Unsupervised Learning*."
   ]
  },
  {
   "cell_type": "markdown",
   "metadata": {},
   "source": [
    "### 3.2 - Comparison of Supervised and Unsupervised Learning\n",
    "\n",
    "Although there are different goals with supervised and unsupervised learning models, it is useful to compare the techniques to understand the strengths and limitations with each approach. Below are a discussion points, with comments for each of the two learning styles.\n",
    "\n",
    "&nbsp;\n",
    "\n",
    "**Accuracy**\n",
    "\n",
    "* Supervised learning uses labelled data which makes the model very accurate. This is because the model is told exactly how to respond for many scenarios.\n",
    "\n",
    "* Unsupervised learning does not use labelled data, and so can suffer with lower accuracy at times. \n",
    "\n",
    "&nbsp;\n",
    "\n",
    "**Development Time**\n",
    "\n",
    "* Unsupervised learning does not require a human to hand-label every piece of input data and so these models can be much faster to develop. This allows for more time to be spent on improving the model, rather than at the pre-processing stage.\n",
    "\n",
    "* Supervised learning requires each piece of data to be labelled. This requires a large time or monetary investment, which could be better used elsewhere.\n",
    "\n",
    "&nbsp;\n",
    "\n",
    "**Detailed Outputs**\n",
    "\n",
    "* Supervised learning can give very specific outputs for classification problems, since the outputs are as specific as the input training labels.\n",
    "\n",
    "* Unsupervised learning can only detect relationships that are present in the dataset.\n",
    "\n",
    "&nbsp;\n",
    "\n",
    "**Insight**\n",
    "\n",
    "* Unsupervised learning can detect patterns in data without human guidance, and so can find relationships between variables that could be missed by humans. However, these relationships may sometimes need an expert to break them down and explain the meaning behind them.\n",
    "\n",
    "* Supervised learning models can only be as good as the labels provided to them, and so to an extent are limited by the ability of the human developers."
   ]
  },
  {
   "cell_type": "markdown",
   "metadata": {},
   "source": [
    "<center><h2>Section 4 - Reinforcement Learning</h2></center>"
   ]
  },
  {
   "cell_type": "markdown",
   "metadata": {},
   "source": [
    "### 4.1 - Reinforcement Learning - Overview\n",
    "\n",
    "**Reinforcement learning** models do not work with data in the same way as supervised and unsupervised learning models. Instead, reinforcement learning models seek to perform the best sequence of actions to complete a given task. A more formal definition of this is given below [11]:\n",
    "\n",
    "> Reinforcement learning is a branch of machine learning dedicated to training agents to operate in an environment, in order to maximize their utility in the pursuit of some goals.\n",
    "\n",
    "Commonly, reinforcement models are used to train computers to play video games. Here the goals are clearly defined: in Pac-Man the goal is to get the maximum number of points, and in Super Mario Bros the goal is to get to the end of each stage. To maximise the probability of achieving these goals, the model must *learn* to perform a sequence of actions that gets the most points, or gets Mario to the end of a stage. \n",
    "\n",
    "The game here is called an **environment**, and the model is said to train an **agent**, which is the player. In simple terms, the environment is where the actions will be performed, and is what the agent will interact with. The agent is what performs the actions: this consists of the trained reinforcement learning model (the 'brain' of the agent), as well as all the pieces needed to interact with the environment (such as the software that allows button presses etc). This is very different from supervised and unsupervised learning. In those approaches, a large amount of training data is available upfront which can be presented to a model. In reinforcement learning, training data is generated by the interactions of the agent with the environment.\n",
    "\n",
    "At first, the model is randomly initialised, and so every decision the agent makes is random. This often means that the agent performs horribly at the beginning of its training. A reward is given to the agent if it performs a series of actions which leads to a positive result in the game. For example, gaining points in Pac-Man or completing a stage in Super Mario Bros. A punishment, or penalty is given if the agent performs a series of actions which leads to a negative result in the game. For example, losing a life or getting a 'Game Over' screen.\n",
    "\n",
    "The series of actions that an agent takes is called a **policy**, and the probability the model will perform certain actions is changed by **policy gradients**. This is an algorithm which either increases or decreases the probability of performing an action based on whether a reward or penalty was received the last time those actions were performed. Over many iterations, the model will reinforce the good decisions, and discourage the poor decisions.\n",
    "\n",
    "Although the example here was video games, this style of learning can be applied in many different areas of industry such as robotics, engineering, manufacturing, and more."
   ]
  },
  {
   "cell_type": "markdown",
   "metadata": {},
   "source": [
    "### 4.2 - Reinforcement Learning - Advantages over Supervised Learning\n",
    "\n",
    "Supervised machine learning methods can be applied to the same problems that reinforcement learning is used solve. However, there are many downsides to this approach. In the video game example, the training data would be individual frames of game footage, labelled with the button press of a skilled player. For example: a movement command, jump, do nothing, etc. A model could be trained with many thousands of frames and *learn* the appropriate command for different situations.\n",
    "\n",
    "There are two main issues with this approach. Firstly, a highly-skilled human player would be required to create the training data. Combined with the required pre-processing for supervised learning, this would take a significant amount of time. Secondly, the model would be restricted by the ability of the player. Since the model can only learn from the labelled training data, the outputs will eventually mimic the player. It then follows that this approach cannot be used to produce an AI that will out-perform humans at any given task.\n",
    "\n",
    "With reinforcement learning however, the computer is allowed to learn for itself. The model is randomly initialised at the beginning of its training, and so every decision made is random. This leads to horrible performance in the early stages of development. As the agent makes decisions, positive actions are rewarded and negative actions are punished. This increases the likelihood of good decisions over time. After many iterations the model will eventually explore solutions that may not have been thought of by humans, or are too difficult to perform without a computer.\n",
    "\n",
    "There are of course issues with reinforcement learning, and these are the focus of much research today. The specific problems with this approach will be held back for a deeper discussion in later notebooks."
   ]
  },
  {
   "cell_type": "markdown",
   "metadata": {},
   "source": [
    "### 4.3 - AlphaGo - An Example of Reinforcement Learning\n",
    "\n",
    "A famous example of reinforcement learning in action is AlphaGo, which is an AI developed by DeepMind. This was an algorithm that was trained to played the ancient board game 'Go', which has been famously difficult to develop AI for in the past. This is due to the sheer number of possible moves, which make the outcomes of any one move difficult to predict. In March 2016, AlphaGo was tested against the 18-time world champion Go player Lee Seedol in a 'best of 5 match'. AlphaGo's performance marked a milestone in the history artificial intelligence and cemented reinforcement learning as a powerful technique in the field of machine learning. The result of the match has purposely been omitted from this notebook, as it is strongly recommended you watch you fantastic documentary about the match on the DeepMind website [12].\n",
    "\n"
   ]
  },
  {
   "cell_type": "markdown",
   "metadata": {},
   "source": [
    "<center><h2>Section 5 - Conclusion</h2></center>\n",
    "\n",
    "This notebook introduced the concepts of Artificial Intelligence (AI), Machine Learning and Neural Networks. Machine Learning is a branch of AI that can be broken into 3 categories: Supervised Learning, Unsupervised Learning, and Reinforcement Learning. These methods learn from data in different ways to *learn* and improve their outputs. Machine learning models have seen great success in the last 20 years, and are believed to be the future of AI for many decades to come."
   ]
  },
  {
   "cell_type": "markdown",
   "metadata": {},
   "source": [
    "<center><h2>Section 6 - Glossary</h2></center>\n",
    "\n",
    "**Agent**\n",
    "> The combination of a trained reinforcement learning model and the peripherals needed to interact with the environment.\n",
    "\n",
    "**Artificial Intelligence**\n",
    "> Leveraging computers and machines to mimic the problem-solving and decision-making capabilities of the human mind.\n",
    "\n",
    "**Artificial General Intelligence**\n",
    "> A computer that be trained to complete any task that a human can.\n",
    "\n",
    "**Association**\n",
    "> An unsupervised learning technique which predicts the value of some data based on some other data given some association between them. For example, a recommendation engine for an online shopping website, where users who have bought one item commonly buy this other item.\n",
    "\n",
    "**Class**\n",
    "> A label for categoric data in supervised learning models.\n",
    "\n",
    "**Classification**\n",
    "> A supervised learning problem where categoric outputs are predicted.\n",
    "\n",
    "**Classifier**\n",
    "> A supervised learning model that solves a classification problem.\n",
    "\n",
    "**Clustering**\n",
    "> An unsupervising learning technique which groups data by similarities, and has applications in computer vision, recommendation systems, image compression and more.\n",
    "\n",
    "**Connectionist AI**\n",
    "> AI using a network structure of connected nodes which can learn from data to update the links between nodes simulatenously.\n",
    "\n",
    "**Dimensionality Reduction**\n",
    "> A technique to reduce the amount of data points in a dataset while retaining the integrity of the data as much as possible.\n",
    "\n",
    "**Environment**\n",
    "> The world with which an agent interacts in a reinforcement learning model.\n",
    "\n",
    "**Evaluate**\n",
    "> Assessing the performance of a model by presenting new data and observing the number of correction predictions.\n",
    "\n",
    "**Labelled Data**\n",
    "> Data which contains both the inputs to a model and the expected output. This is the training data for supervised learning models.\n",
    "\n",
    "**Learn**\n",
    "> A model that uses data to adapt its behaviour and improve its outputs.\n",
    "\n",
    "**Machine Learning**\n",
    ">  A branch of artificial intelligence (AI) and computer science which focuses on the use of data and algorithms to imitate the way that humans learn, gradually improving its accuracy.\n",
    "\n",
    "**Neural Network**\n",
    ">  Layer-structured representations of data, inspired by the human brain. A network consists of an input layer, one or more hidden layers, and an output layer, each with many nodes. These can be trained with different learning styles to give intelligent outputs.\n",
    "\n",
    "**Policy**\n",
    "> The series of actions that an agent takes in a reinforcement learning model.\n",
    "\n",
    "**Policy Gradients**\n",
    "> An algorithm in reinforcement learning which either increases or decreases the probability of performing an action based on whether a reward or penalty was received the last time those actions were performed\n",
    "\n",
    "**Regression**\n",
    "> A supervised learning technique that predicts numeric outputs.\n",
    "\n",
    "**Reinforcement Learning**\n",
    "> A branch of machine learning dedicated to training agents to operate in an environment, in order to maximize their utility in the pursuit of some goals.\n",
    "\n",
    "**Supervised Learning**\n",
    "> A branch of machine learning that trains models using labelled data.\n",
    "\n",
    "**Symbolic AI**\n",
    "> AI written using hard-coded rules, this does not involve machine learning.\n",
    "\n",
    "**Validation Data**\n",
    "> Data unknown to the model that is used to assess its accuracy during the development cycle.\n",
    "\n",
    "**Test-Train Split**\n",
    "> The proportion of data used to train the model vs to test the model. Typical values are 70:30 and 80:20.\n",
    "\n",
    "**Testing**\n",
    "> Exposing a trained model to unknown data to assess its performance and compare to other models.\n",
    "\n",
    "**Training**\n",
    "> Exposing a model to data to learn from.\n",
    "\n",
    "**Unsupervised Learning**\n",
    "> A branch of machine learning that does not use labelled data for training, but rather raw data. These techniques extract meaning from data without human interaction, discovering patterns and relationships within the data."
   ]
  },
  {
   "cell_type": "markdown",
   "metadata": {},
   "source": [
    "<center><h2>Section 7 - References</h2></center>\n",
    "\n",
    "[1] Definition of Artificial Intelligence - [IBM](https://www.ibm.com/uk-en/cloud/learn/what-is-artificial-intelligence)\n",
    "\n",
    "[2] Symbolic AI - [Medium](https://medium.com/deepcode-ai/the-rise-and-fall-and-re-rise-of-symbolic-ai-14faec102821#:~:text=Today%2C%20when%20we%20think%20of,recent%20developments%20suggest%20the%20opposite.)\n",
    "\n",
    "[3] Definition of Machine Learning - [IBM](https://www.ibm.com/uk-en/cloud/learn/machine-learning)\n",
    "\n",
    "[4] Definition of Neural Networks - [IBM](https://www.ibm.com/uk-en/cloud/learn/neural-networks)\n",
    "\n",
    "[5] Classification vs Regression - [Machine Learning Mastery](https://machinelearningmastery.com/classification-versus-regression-in-machine-learning/#:~:text=Some%20algorithms%20have%20the%20word,regression%20is%20a%20classification%20algorithm.)\n",
    "\n",
    "[6] Training, Validation and Testing - [Machine Learning Mastery](https://machinelearningmastery.com/difference-test-validation-datasets/#:~:text=That%20the%20%E2%80%9Cvalidation%20dataset%E2%80%9D%20is,it%20to%20other%20final%20models.)\n",
    "\n",
    "[7] Common Test-Train Splits - [Towards Data Science](https://towardsdatascience.com/train-test-split-and-cross-validation-in-python-80b61beca4b6)\n",
    "\n",
    "[8] Types of Unsupervised Learning - [IBM](https://www.ibm.com/cloud/blog/supervised-vs-unsupervised-learning)\n",
    "\n",
    "[9] Definition of Data Mining - [SAS](https://www.ibm.com/cloud/blog/supervised-vs-unsupervised-learning)\n",
    "\n",
    "[10] Examples of Unsupervised Learning - [Pythonista Planet](https://pythonistaplanet.com/pros-and-cons-of-unsupervised-learning/)\n",
    "\n",
    "[11] Definition of Reinforcement Learning - [Baeldung](https://www.baeldung.com/cs/ml-policy-reinforcement-learning#:~:text=A%20policy%20is%2C%20therefore%2C%20a,agent's%20state%20and%20the%20environment.)\n",
    "\n",
    "[12] AlphaGo Documentary - [DeepMind](https://www.deepmind.com/research/highlighted-research/alphago)"
   ]
  }
 ],
 "metadata": {
  "interpreter": {
   "hash": "d12f8feabeafaf270980e7c9bb07a64bda11bc8bed6d60be55672b74d1da4805"
  },
  "kernelspec": {
   "display_name": "Python 3.9.7 64-bit ('base': conda)",
   "language": "python",
   "name": "python3"
  },
  "language_info": {
   "codemirror_mode": {
    "name": "ipython",
    "version": 3
   },
   "file_extension": ".py",
   "mimetype": "text/x-python",
   "name": "python",
   "nbconvert_exporter": "python",
   "pygments_lexer": "ipython3",
   "version": "3.9.7"
  },
  "orig_nbformat": 4
 },
 "nbformat": 4,
 "nbformat_minor": 2
}
