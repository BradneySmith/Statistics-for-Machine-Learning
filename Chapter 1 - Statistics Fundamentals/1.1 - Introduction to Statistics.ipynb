{
 "cells": [
  {
   "cell_type": "markdown",
   "metadata": {},
   "source": [
    "<center><h1>Statistics for Machine Learning</h1></center>\n",
    "&nbsp;\n",
    "<center><h2>Introduction to Statistics</h2></center>"
   ]
  },
  {
   "cell_type": "markdown",
   "metadata": {},
   "source": [
    "### Overview\n",
    "\n",
    "Statistics is one of the key branches of mathematics, and is the backbone of many modelling techniques used today. In more recent times, statistics has proved incredibly useful in the field of machine learning, and so a solid foundation in the area is essential for any data scientist. The following aims to give an overview of what statistics is and how it can be used, as well as an overview some common visualisation techniques for different types of data."
   ]
  },
  {
   "cell_type": "markdown",
   "metadata": {},
   "source": [
    "### Contents\n",
    "\n",
    "Section 1 - Statistics Basics\n",
    "\n",
    "Section 2 - Common Representations of Categoric Data\n",
    "\n",
    "Section 3 - Common Representations of Quantitative Data\n",
    "\n",
    "Section 4 - Conclusion\n",
    "\n",
    "Section 5 - Glossary\n",
    "\n",
    "Section 6 - References"
   ]
  },
  {
   "cell_type": "markdown",
   "metadata": {},
   "source": [
    "<center><h2>Section 1 - Statistics Basics</h2></center>"
   ]
  },
  {
   "cell_type": "markdown",
   "metadata": {},
   "source": [
    "### 1.1 - Definition of Statistics\n",
    "\n",
    "In science we often conduct experiments to learn more about the world and our place within it. **Experiments** are tests that allow us to make new discoveries or test theories we may have. These often generate a large amount of data, and we need a systematic way to extract meaning from the results. This is achieved using **statistics**. Statistics is defined by Joseph Watkins in *An Introduction to the Science of Statistics* [1] as:\n",
    "\n",
    "> a mathematical science that is concerned with the collection, analysis, interpretation or explanation, and presentation of data.\n",
    "\n",
    "This definition lists the 5 main stages of the statistical process. Once an experiment has been completed, the results can be gathered (*collection*) and broken down using statistical tests (*analysis*). Performing these tests gives a way to understand what the data means (*interpretation*) and why these results were found (*explanation*). Finally, the results can be summarised numerically using measures of location for example, or visually using plots and chats. Performing these 5 fundamental steps allows us to fully understand the results of an experiment, and gain insight into the area we are studying."
   ]
  },
  {
   "cell_type": "markdown",
   "metadata": {},
   "source": [
    "### 1.2 - Types of Variables\n",
    "\n",
    "Since statistics works with data, it is important to discuss the different forms that data may come in. Data is collected for each **individual** in a group, called a **population**. Each individual can have many characteristics that may be of interest, for a example a person could be measured for their height, shoe size, and hair colour. The characteristics of interest are called **variables**, since their values may vary from individual to individual. A **dataset** is the total collection of data collected from each individual. If only one variable is measured for each individual, the dataset is said to be **univariate** (meaning *one variable*). If multiple variables are measured for each individual, the dataset is said to be **multivariate** (mean *multiple variables*). A common type of multivariate data is **bivariate** data, which is the case when exactly two variables are measured for each individual.\n",
    "\n",
    "Variables can come in 2 distinct types [2]:\n",
    "\n",
    "* Categoric Variables\n",
    "* Quantitative Variables\n",
    "\n",
    "**Categoric Variables** are characteristics which cannot be described using numbers, for example: hair colour. For this reason they are also called Qualitative Variables. Categoric variables can be broken down further into 3 sub-types: ordinal, nominal and dichotomous. **Ordinal** variables imply a form of ranking: for example: small, medium and large. **Nominal** variables do not imply a form a ranking, for example: red, blue, green. **Dichotomous** variables are nominal variables since they do not imply ranking, but are restricted to only taking one of two values, for example: yes or no, male or female, true or false etc.\n",
    "\n",
    "**Quantitative Variables** are characteristics which can be described using numbers, for example: height and shoe size. This can be broken down further into **discrete variables** and **continuous variables**. Discrete variables are qualitative variables that can only take certain numeric values, for example: the numbers on a di or shoe size. Continuous variables are qualitative variables that can take any numeric value (including any decimal value), for example: height, weight, distance, speed etc.\n",
    "\n",
    "The type of variable you are working with can influence the statistical methods used for the analysis stage, and so it is important to take note of the data types being used. Some graphical methods work very well for certain types of data, and so this knowledge can also aid the presentation stage."
   ]
  },
  {
   "cell_type": "markdown",
   "metadata": {},
   "source": [
    "### 1.3 - The Main Branches of Statistics\n",
    "\n",
    "Statistics is a large field with many different techniques and applications. Generally, the area can be broken into 2 main branches [3]:\n",
    "\n",
    "* Descriptive Statistics\n",
    "* Inferential Statistics\n",
    "\n",
    "**Descriptive Statistics** is the branch of statistics concerned with organising and summarising data using tables, graphs and numerical values. This provides a description of the data, hence the name *descriptive* statistics.\n",
    "\n",
    "**Inerfential Statistics** is the branch of statistics concerned with using a sample from a population to make generalisations (usually to make predictions), and then assess the reliability of those generalisations. This includes techniques such as Hypothesis Testing which will be covered in later notebooks.\n",
    "\n"
   ]
  },
  {
   "cell_type": "markdown",
   "metadata": {},
   "source": [
    "### 1.4 - Data Analysis Process\n",
    "\n",
    "The definition for statistics above listed the 5 main stages of the statistics process. This can be expanded upon to give a full process for data analysis.\n",
    "\n",
    "&nbsp;\n",
    "\n",
    "**Step 1)** Problem Definition\n",
    "\n",
    "The first step in any experiment should be to define the problem clearly. This will determine the variable types that will be collected (e.g. discrete, continuous etc), and how the collection process will take place.\n",
    "\n",
    "&nbsp;\n",
    "\n",
    "**Step 2)** Collection\n",
    "\n",
    "Data collection can be in the form of recording the results from a practical experiment, such as in a laboratory setting. However, data collection can be as simple as scraping information from a website. Since this is the process of gathering data to make a discovery or test a hypothesis about the real world, this can be considered an experiment.\n",
    "\n",
    "&nbsp;\n",
    "\n",
    "**Step 3)** Data Cleaning\n",
    "\n",
    "Data cleaning is the process of fixing or removing incorrect, corrupted, incorrectly formatted, duplicate, or incomplete data within a dataset [4]. This is particularly important when combining multiple existing datasets since the may be opportunities for data to be duplicated or mislabelled.\n",
    "\n",
    "&nbsp;\n",
    "\n",
    "**Step 4)** Analysis\n",
    "\n",
    "The analysis stage is where statistical techniques can start to be applied to the data. Recall that the techniques that are applied are dependent on the type of the data, so this will influence the types of studies that can be conducted. For example, it might not make sense to calculate the *mean* hair colour, but maybe the *modal* value would be a good measure of location. The analysis stage can be broken into two parts: **Exploratory Data Analysis** (EDA) and formal analysis. EDA is a vital preliminary step to explore the data and determine which formal analysis methods may most appropriate to apply. After this, the formal analysis can take place.\n",
    "\n",
    "&nbsp;\n",
    "\n",
    "**Step 5)** Interpretation and Explanation\n",
    "\n",
    "The results of the statistical tests in the previous stage can then be applied in the context of the experiment. This is crucial part of the statistical process, and without this step the results of the test are meaningless. From here meaning can be extracted, and understanding about the experiment can be obtained.\n",
    "\n",
    "&nbsp;\n",
    "\n",
    "**Step 6)** Presentation and Application\n",
    "\n",
    "Finally, the results can be presented in a numerical or graphical summary. This output can then be used to make predictions and apply the results to answer future questions (without having to run an experiment to determine the answer)."
   ]
  },
  {
   "cell_type": "markdown",
   "metadata": {},
   "source": [
    "<center><h2>Section 2 - Common Representations of Categoric Data</h2></center>"
   ]
  },
  {
   "cell_type": "markdown",
   "metadata": {},
   "source": [
    "### 2.1 - Visualising Categoric Data\n",
    "\n",
    "Categoric data can be represented in a few different ways, including both tabular and graphical approaches. Since these techniques give descriptions of data, this falls under the branch of descriptive statistics. The following cells show some common methods used to visualise categoric data."
   ]
  },
  {
   "cell_type": "markdown",
   "metadata": {},
   "source": [
    "### 2.2 - Frequency Distributions\n",
    "\n",
    "A common way to represent categoric data is using a frequency distribution. In this technique, the count of measurements in each category (called the **frequency**) is shown in a column next to the category names. Additionally, the a column is constructed for the relative frequency. This is given by the formula:\n",
    "\n",
    "&nbsp;\n",
    "\n",
    "$\n",
    "\\text{relative frequency} = \\frac{\\text{frequency}}{\\text{total number of measurements}}\n",
    "$\n",
    "\n",
    "&nbsp;\n",
    "\n",
    "The relative frequency is the percentage of measurements that belong to each category, and so the sum of these values will be 1. If the table also includes the relative frequencies, it is sometimes referred to as the Relative Frequency Distribution.\n",
    "\n",
    "&nbsp;\n",
    "\n",
    "Consider the following example. A zoo sells tickets of 3 categories: child ticket ($C$), senior citizen ticket ($S$) and regular ticket ($R$). For a particular day, the ticket sales are given as follows:\n",
    "\n",
    "&nbsp;\n",
    "\n",
    "$\n",
    "\\text{C } \\text{R } \\text{R } \\text{C } \\text{C } \\text{R } \\text{S } \\text{C } \\text{C } \\text{S } \\text{C }\n",
    "$\n",
    "$\n",
    "\\text{S } \\text{S } \\text{C } \\text{C } \\text{R } \\text{R } \\text{R } \\text{R } \\text{S } \\text{R } \\text{C }\n",
    "$\n",
    "$\n",
    "\\text{C } \\text{C } \\text{C } \\text{S } \\text{R } \\text{C } \\text{R } \\text{C } \\text{S } \\text{C } \\text{S }\n",
    "$\n",
    "\n",
    "&nbsp;\n",
    "\n",
    "This data is categoric and so can be represented using a frequency distribution. A Python implementation of this example is shown below."
   ]
  },
  {
   "cell_type": "code",
   "execution_count": 131,
   "metadata": {},
   "outputs": [
    {
     "data": {
      "text/html": [
       "<div>\n",
       "<style scoped>\n",
       "    .dataframe tbody tr th:only-of-type {\n",
       "        vertical-align: middle;\n",
       "    }\n",
       "\n",
       "    .dataframe tbody tr th {\n",
       "        vertical-align: top;\n",
       "    }\n",
       "\n",
       "    .dataframe thead th {\n",
       "        text-align: right;\n",
       "    }\n",
       "</style>\n",
       "<table border=\"1\" class=\"dataframe\">\n",
       "  <thead>\n",
       "    <tr style=\"text-align: right;\">\n",
       "      <th></th>\n",
       "      <th>Frequency</th>\n",
       "      <th>Relative Frequency</th>\n",
       "    </tr>\n",
       "    <tr>\n",
       "      <th>Ticket</th>\n",
       "      <th></th>\n",
       "      <th></th>\n",
       "    </tr>\n",
       "  </thead>\n",
       "  <tbody>\n",
       "    <tr>\n",
       "      <th>C</th>\n",
       "      <td>15</td>\n",
       "      <td>0.455</td>\n",
       "    </tr>\n",
       "    <tr>\n",
       "      <th>R</th>\n",
       "      <td>10</td>\n",
       "      <td>0.303</td>\n",
       "    </tr>\n",
       "    <tr>\n",
       "      <th>S</th>\n",
       "      <td>8</td>\n",
       "      <td>0.242</td>\n",
       "    </tr>\n",
       "  </tbody>\n",
       "</table>\n",
       "</div>"
      ],
      "text/plain": [
       "        Frequency  Relative Frequency\n",
       "Ticket                               \n",
       "C              15               0.455\n",
       "R              10               0.303\n",
       "S               8               0.242"
      ]
     },
     "execution_count": 131,
     "metadata": {},
     "output_type": "execute_result"
    }
   ],
   "source": [
    "import pandas as pd\n",
    "from matplotlib import pyplot as plt\n",
    "plt.style.use('fivethirtyeight')\n",
    "\n",
    "data = ['C', 'R', 'R', 'C', 'C', 'R', 'S', 'C', 'C', 'S', 'C',\n",
    "        'S', 'S', 'C', 'C', 'R', 'R', 'R', 'R', 'S', 'R', 'C',\n",
    "        'C', 'C', 'C', 'S', 'R', 'C', 'R', 'C', 'S', 'C', 'S']\n",
    "\n",
    "data_df = pd.DataFrame(data, columns=['Ticket'])\n",
    "\n",
    "analysis_df = pd.DataFrame()\n",
    "analysis_df['Frequency'] = data_df.value_counts()\n",
    "analysis_df['Relative Frequency'] = round(analysis_df.div(len(data_df)), 3)\n",
    "analysis_df"
   ]
  },
  {
   "cell_type": "markdown",
   "metadata": {},
   "source": [
    "### 2.3 - Bar Charts\n",
    "\n",
    "A bar chart is another common representation of categoric data. In this method, distinct bars are drawn for each category. The height of the bar (on the $y$ axis) represents the frequency of measurements in that category. The intervals between each bar should be regularly spaced, with a gap between each bar. Bar charts make it very easy to compare frequencies across categories, and can be quicker to read that tabular representations. Below shows a Python implementation of a bar chart for the zoo example given in the cell above."
   ]
  },
  {
   "cell_type": "code",
   "execution_count": 132,
   "metadata": {},
   "outputs": [
    {
     "data": {
      "text/plain": [
       "Text(0, 0.5, '\\nFrequency\\n')"
      ]
     },
     "execution_count": 132,
     "metadata": {},
     "output_type": "execute_result"
    },
    {
     "data": {
      "image/png": "[encoded data removed]",
      "text/plain": [
       "<Figure size 1080x360 with 1 Axes>"
      ]
     },
     "metadata": {},
     "output_type": "display_data"
    }
   ],
   "source": [
    "fig, ax = plt.subplots(figsize=(15,5))\n",
    "ax.bar(['Child', 'Regular', 'Senior'], analysis_df['Frequency'])\n",
    "ax.set_title('\\nBar Chart of Ticket Sales\\n', fontsize=20)\n",
    "ax.set_xlabel('\\nTicket Types\\n', fontsize=16)\n",
    "ax.set_ylabel('\\nFrequency\\n', fontsize=16)"
   ]
  },
  {
   "cell_type": "markdown",
   "metadata": {},
   "source": [
    "### 2.4 - Pie Charts\n",
    "\n",
    "Pie charts use sectors of a circle to represent the percentage of data (relative frequency) that fits into each category. Note that this is different to a bar chart, which generally shows the total frequency of the categories. The total angles of the circle must sum to 360 degrees, and so each sector occupies a percentage of the circle equal to the percentage it reperesents.\n",
    "\n",
    "For example, the relative frequencies in the zoo example were 45.5%, 30.3% and 24.2% for the child, regular and senior tickets respectively. On a pie chart, the categories would occupy these percentages of circle, giving sector angles of 168.3 degrees, 109.08 and 87.12 degrees respectively. \n",
    "\n",
    "Different sectors can be 'exploded' to draw attention to a specific part of the chart. This is shown for the senior tickets using Matplotlib below."
   ]
  },
  {
   "cell_type": "code",
   "execution_count": 133,
   "metadata": {},
   "outputs": [
    {
     "data": {
      "image/png": "[encoded data removed]",
      "text/plain": [
       "<Figure size 1080x540 with 1 Axes>"
      ]
     },
     "metadata": {},
     "output_type": "display_data"
    }
   ],
   "source": [
    "fig, ax = plt.subplots(figsize=(15,7.5))\n",
    "ax.set_title('\\nPie Chart of Ticket Sales\\n', fontsize=20)\n",
    "ax.pie(analysis_df['Frequency'],\n",
    "       labels=['Child', 'Regular', 'Senior'], \n",
    "       explode=(0,0,0.1),\n",
    "       autopct='%1.1f%%',\n",
    "       shadow=True,\n",
    "       textprops={'fontsize': 16})\n",
    "fig.set_facecolor('white')\n",
    "\n"
   ]
  },
  {
   "cell_type": "markdown",
   "metadata": {},
   "source": [
    "### 2.5 - Two-Way Tables\n",
    "\n",
    "Two-way tables are used to show the relationship between two categoric variables. These go by many names, and so you may also see them referred to as contingency tables, cross tabulation tables and cross classifying tables. The table is constructed by writing the possible values for one variables along the top of the table forming the column headers (called the column variable), and the possible values for the second variable along the left side of the table forming the row labels (called the row variable).\n",
    "\n",
    "In this example, consider a study into how many male and female students study different subjects. The two variables here are the sex of the student and the subjects they study. This data can be represented using a two-way table, with the subjects as the column variable, and the sex of the student as the row variable. It does not matter which way around the variables, but generally the variables are chosen to ensure the table fits nicely on the page/screen. Information for some students is presented below."
   ]
  },
  {
   "cell_type": "code",
   "execution_count": 134,
   "metadata": {},
   "outputs": [
    {
     "data": {
      "text/html": [
       "<div>\n",
       "<style scoped>\n",
       "    .dataframe tbody tr th:only-of-type {\n",
       "        vertical-align: middle;\n",
       "    }\n",
       "\n",
       "    .dataframe tbody tr th {\n",
       "        vertical-align: top;\n",
       "    }\n",
       "\n",
       "    .dataframe thead th {\n",
       "        text-align: right;\n",
       "    }\n",
       "</style>\n",
       "<table border=\"1\" class=\"dataframe\">\n",
       "  <thead>\n",
       "    <tr style=\"text-align: right;\">\n",
       "      <th></th>\n",
       "      <th>Mathematics</th>\n",
       "      <th>Physics</th>\n",
       "      <th>Chemistry</th>\n",
       "      <th>Biology</th>\n",
       "    </tr>\n",
       "  </thead>\n",
       "  <tbody>\n",
       "    <tr>\n",
       "      <th>Male</th>\n",
       "      <td>43</td>\n",
       "      <td>36</td>\n",
       "      <td>31</td>\n",
       "      <td>24</td>\n",
       "    </tr>\n",
       "    <tr>\n",
       "      <th>Female</th>\n",
       "      <td>33</td>\n",
       "      <td>32</td>\n",
       "      <td>29</td>\n",
       "      <td>42</td>\n",
       "    </tr>\n",
       "    <tr>\n",
       "      <th>Total</th>\n",
       "      <td>76</td>\n",
       "      <td>68</td>\n",
       "      <td>60</td>\n",
       "      <td>66</td>\n",
       "    </tr>\n",
       "  </tbody>\n",
       "</table>\n",
       "</div>"
      ],
      "text/plain": [
       "        Mathematics  Physics  Chemistry  Biology\n",
       "Male             43       36         31       24\n",
       "Female           33       32         29       42\n",
       "Total            76       68         60       66"
      ]
     },
     "execution_count": 134,
     "metadata": {},
     "output_type": "execute_result"
    }
   ],
   "source": [
    "students_data = {'Male': [43, 36, 31, 24],\n",
    "                 'Female': [33, 32, 29, 42]}\n",
    "\n",
    "students_df = pd.DataFrame.from_dict(data=students_data, orient='index', columns=['Mathematics', 'Physics', 'Chemistry', 'Biology'])\n",
    "students_df = students_df.append(students_df.sum().rename('Total'))\n",
    "\n",
    "students_df"
   ]
  },
  {
   "cell_type": "markdown",
   "metadata": {},
   "source": [
    "<center><h2>Section 3 - Common Representations of Quantitative Data</h2></center>"
   ]
  },
  {
   "cell_type": "markdown",
   "metadata": {},
   "source": [
    "### 3.1 - Visualising Quantitative Data\n",
    "\n",
    "Quantitative data can be plot in many different ways that categoric data cannot. This section shows 2 of the most common methods of presenting quantitative data, but there are many more. The choice of which method to use to depends on the feature of the data you want to highlight. Some methods are particularly useful for showing the spread of the data, whilst others show outliers very well. Thankfully there are a lot of different tools that are available for us to use."
   ]
  },
  {
   "cell_type": "markdown",
   "metadata": {},
   "source": [
    "### 3.2 - Histograms\n",
    "\n",
    "Histograms are similar to bar charts, and can be thought of as the equivalent plot for quantitative data. Since quantitative data is often continuous, a bar chart would likely produce many bars each with frequency 1. The probability of getting any two identical continuous values is very slim (and can be considered zero mathematically), so a bar chart cannot be used for continuous data. Instead, a histogram uses the idea of *bins*. A bin is a group that measurements can fall into, for example: heights **between** 60 and 62 inches. A bar can now be plotted without worry of the frequency being limited to 1 in each case. The number of bins is a free choice and is decided by the statistician. For large datasets, Sturges formula reccommends $1 + log_2(n)$, where $n$ is the number of data points.\n",
    "\n",
    "To differentiate bar charts from histograms the bar are allowed to touch, and so no space should be visible between the bars (unless of course a bar has a frequency of 0). Histograms can be interpreted by taking note of the spread of the data, where the center lies, whether there is any skew or symmetry, the presence of outliers etc. In a visual plot like this, these observations are easy to make.\n",
    "\n",
    "In the example below, a histogram of the time taken in seconds to complete a 100 metre sprint is measured and plot using a histogram."
   ]
  },
  {
   "cell_type": "code",
   "execution_count": 135,
   "metadata": {},
   "outputs": [
    {
     "data": {
      "text/plain": [
       "Text(0, 0.5, 'Frequency\\n')"
      ]
     },
     "execution_count": 135,
     "metadata": {},
     "output_type": "execute_result"
    },
    {
     "data": {
      "image/png": "[encoded data removed]",
      "text/plain": [
       "<Figure size 576x396 with 1 Axes>"
      ]
     },
     "metadata": {},
     "output_type": "display_data"
    }
   ],
   "source": [
    "sprint_times = [11.2, 14.3, 15.1, 12.2, 14.8, 15.2, 17.1, 18.3, 13.5, 14.4, \n",
    "                17.6, 13.6, 13.2, 15.6, 12.5, 14.3, 16.1, 16.3]\n",
    "sprint_df = pd.DataFrame(sprint_times)\n",
    "sprint_df.hist(bins=[11,12,13,14,15,16,17,18,19])\n",
    "\n",
    "plt.title('\\nHistogram of Sprint Times\\n', fontsize=20)\n",
    "plt.xlabel('\\nTime', fontsize=16)\n",
    "plt.ylabel('Frequency\\n', fontsize=16)"
   ]
  },
  {
   "cell_type": "markdown",
   "metadata": {},
   "source": [
    "### 3.3 - Scatter Plots\n",
    "\n",
    "Scatter plots are useful for visualising bivariate data, since the value for each variable can be shown on the $x$ and $y$ axes respectively. The variable on the $x$-axis is the independent variable, and in statistics is also called the explantory variable, input, descriptor. Another common term is predictor, since this is the variable we often measure to make predictions about the second variable. The variable on the $y$-axis is the dependent variable, and is also referred to as the target variable. Another common term for this variable is the response, since this the variable we predict based on the predictor variable.\n",
    "\n",
    "Plotting a scatter plot can help visualise any trends in the data. For example, if one variable increases as the other increases, or if one variable increases while the other decreases. The rate at which an increase/decrease takes place can also be visualised by the gradient of a line of best fit that can be fit to the points. Scatter plots are the basis of regression, which is a topic that is covered extensively in the chapter *Supervised Learning: Regression*. Scatter plots can also be created using 3-dimensional data, which generates 3D plots. These will also be used in later notebooks.\n",
    "\n",
    "Below is an example using toy data for a spring under loading. The data shows a linear relationship during the elastic region of deformation, and a non-linear relation during the plastic region. Trends such as this are easily spotted using a visual representation."
   ]
  },
  {
   "cell_type": "code",
   "execution_count": 151,
   "metadata": {},
   "outputs": [
    {
     "data": {
      "text/plain": [
       "Text(0.5, 1.0, 'Scatter Plot of Force vs Extention for a Spring')"
      ]
     },
     "execution_count": 151,
     "metadata": {},
     "output_type": "execute_result"
    },
    {
     "data": {
      "image/png": "[encoded data removed]",
      "text/plain": [
       "<Figure size 576x396 with 1 Axes>"
      ]
     },
     "metadata": {},
     "output_type": "display_data"
    }
   ],
   "source": [
    "hookes_law_data = {'Force (N)': [1,2,3,4,5,6,7,8,9,10],\n",
    "                   'Extention (mm)': [1,2,3,4,5,6,6.5,6.75,6.9,6.75]}\n",
    "\n",
    "hookes_law_df = pd.DataFrame.from_dict(hookes_law_data)\n",
    "hookes_law_df\n",
    "\n",
    "hookes_law_df.plot(kind='scatter', x='Force (N)', y='Extention (mm)', s=50)\n",
    "plt.title('Scatter Plot of Force vs Extention for a Spring')"
   ]
  },
  {
   "cell_type": "markdown",
   "metadata": {},
   "source": [
    "<center><h2>Section 4 - Conclusion</h2></center>\n",
    "\n",
    "Statistics is an essential skills for understanding data. A solid foundation is necessary across a vast array of technical areas, spanning, science, technology, engineering and beyond. This notebooks in this repository give an in-depth look into some of the core concepts of descriptive and inferrential statistics, and relates them back to the field of machine learning. With a strong statistics background, the concepts used to developed artificial intelligence become much more approachable. "
   ]
  },
  {
   "cell_type": "markdown",
   "metadata": {},
   "source": [
    "<center><h2>Section 5 - Glossary</h2></center>\n",
    "\n",
    "**Bivariate Data**\n",
    "> A multivariate dataset where exactly two variables are measured for each individual.\n",
    "\n",
    "**Categoric Variable**\n",
    "> A characteristic which cannot be described using numbers, for example: hair colour\n",
    "\n",
    "**Continuous Variable**\n",
    "> A qualitative variable that can take any numeric value (including any decimal value), for example: height, weight, distance, speed etc.\n",
    "\n",
    "**Dataset**\n",
    "> The total collection of data collected from each individual.\n",
    "\n",
    "**Descriptive Statistics**\n",
    "> The branch of statistics concerned with organising and summarising data using tables, graphs and numerical values. \n",
    "\n",
    "**Dichotomous Variable**\n",
    "> A nominal variable which is restricted to taking one of two values, for example: yes or no, male or female, true or false etc.\n",
    "\n",
    "**Discrete Variable**\n",
    "> A qualitative variable that can only take certain numeric values, for example: the numbers on a di or shoe size.\n",
    "\n",
    "**Experiment**\n",
    "> Tests that allow us to make new discoveries or test theories we may have.\n",
    "\n",
    "**Exploratory Data Analysis (EDA)**\n",
    "> A preliminary step to explore a dataset and determine which formal analysis methods may most appropriate to apply.\n",
    "\n",
    "**Frequency**\n",
    "> The count of a measurement/observation (how often the same measurement occurs in the dataset).\n",
    "\n",
    "**Individual**\n",
    "> One particular person, item or object from a population.\n",
    "\n",
    "**Inerfential Statistics**\n",
    "> The branch of statistics concerned with using a sample from a population to make generalisations (usually to make predictions), and then assess the reliability of those generalisations.\n",
    "\n",
    "**Multivariate Data**\n",
    "> A dataset where multiple variables are measured for each individual.\n",
    "\n",
    "**Nominal Variable**\n",
    "> A categoric variable that does not imply a form of ranking, for example: hair colour.\n",
    "\n",
    "**Ordinal Variable**\n",
    "> A categoric variable that implies a form of ranking, for example: small, medium and large.\n",
    "\n",
    "**Population**\n",
    "> The entire collection of individuals or objects from which information is desired\n",
    "\n",
    "**Quantitative Variable**\n",
    "> A characteristic which can be described using numbers, for example: height and shoe size.\n",
    "\n",
    "**Statistics**\n",
    "> A mathematical science that is concerned with the collection, analysis, interpretation or explanation, and presentation of data.\n",
    "\n",
    "**Univariate Data**\n",
    "> A dataset where only one variable is measured for each individual.\n",
    "\n",
    "**Variable**\n",
    "> A characteristic of interest that may vary from one individual to another."
   ]
  },
  {
   "cell_type": "markdown",
   "metadata": {},
   "source": [
    "<center><h2>Section 6 - References</h2></center>\n",
    "\n",
    "[1] An Introduction to the Science of Statistics - [James Watkins](https://www.math.arizona.edu/~jwatkins/statbook.pdf)\n",
    "\n",
    "[2] Types of Variables in Statistics - [Statistics Laerd](https://statistics.laerd.com/statistical-guides/types-of-variable.php)\n",
    "\n",
    "[3] Introduction to Statistics and Data Analysis Third Edition - [SPPS.org](https://www.spps.org/cms/lib/MN01910242/Centricity/Domain/859/Statistics%20Textbook.pdf)\n",
    "\n",
    "[4] Definition of Data Cleaning - [Tableu](https://www.tableau.com/learn/articles/what-is-data-cleaning#:~:text=Data%20cleaning%20is%20the%20process,to%20be%20duplicated%20or%20mislabeled.)\n"
   ]
  }
 ],
 "metadata": {
  "interpreter": {
   "hash": "d12f8feabeafaf270980e7c9bb07a64bda11bc8bed6d60be55672b74d1da4805"
  },
  "kernelspec": {
   "display_name": "Python 3.9.7 64-bit ('base': conda)",
   "language": "python",
   "name": "python3"
  },
  "language_info": {
   "codemirror_mode": {
    "name": "ipython",
    "version": 3
   },
   "file_extension": ".py",
   "mimetype": "text/x-python",
   "name": "python",
   "nbconvert_exporter": "python",
   "pygments_lexer": "ipython3",
   "version": "3.9.7"
  },
  "orig_nbformat": 4
 },
 "nbformat": 4,
 "nbformat_minor": 2
}
